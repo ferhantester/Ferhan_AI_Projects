{
 "cells": [
  {
   "cell_type": "code",
   "execution_count": null,
   "id": "90e7f8c3",
   "metadata": {
    "scrolled": false
   },
   "outputs": [],
   "source": [
    "!pip list"
   ]
  },
  {
   "cell_type": "code",
   "execution_count": null,
   "id": "700f1f5e",
   "metadata": {},
   "outputs": [],
   "source": [
    "!pip install opencv-python"
   ]
  },
  {
   "cell_type": "code",
   "execution_count": null,
   "id": "2635eefb",
   "metadata": {},
   "outputs": [],
   "source": [
    "import sys\n",
    "sys.executable"
   ]
  },
  {
   "cell_type": "code",
   "execution_count": null,
   "id": "9d24cea1",
   "metadata": {},
   "outputs": [],
   "source": [
    "!C:\\\\Users\\\\FARHAN\\\\anaconda3\\\\python.exe -m pip install opencv-python"
   ]
  },
  {
   "cell_type": "code",
   "execution_count": 17,
   "id": "6db47916",
   "metadata": {},
   "outputs": [],
   "source": [
    "import cv2\n",
    "image=cv2.imread('C:\\\\Users\\\\FARHAN\\\\Desktop\\\\pc.jpg') #read the image\n",
    "cv2.imshow('Myimage', image) #diplay the image\n",
    "cv2.waitKey(0) #hold the screen passing parameter as o\n",
    "cv2.destroyAllWindows()# deleting window from screen and memory\n",
    "\n"
   ]
  },
  {
   "cell_type": "code",
   "execution_count": 27,
   "id": "57d0522e",
   "metadata": {},
   "outputs": [
    {
     "data": {
      "text/plain": [
       "True"
      ]
     },
     "execution_count": 27,
     "metadata": {},
     "output_type": "execute_result"
    }
   ],
   "source": [
    "graycolor=cv2.cvtColor(image, cv2.COLOR_BGR2HSV)\n",
    "cv2.imwrite('C:\\\\Users\\\\FARHAN\\\\Desktop\\\\pc1.jpg', graycolor)"
   ]
  },
  {
   "cell_type": "code",
   "execution_count": 29,
   "id": "5a59ca7a",
   "metadata": {},
   "outputs": [],
   "source": [
    "face_cascade = cv2.CascadeClassifier(cv2.data.haarcascades + 'haarcascade_frontalface_default.xml')\n",
    "\n",
    "faces = face_cascade.detectMultiScale(graycolor, scaleFactor=1.1, minNeighbors=5)\n",
    "\n",
    "\n",
    "# Draw rectangles around the faces\n",
    "for (x, y, w, h) in faces:\n",
    "    cv2.rectangle(image, (x, y), (x+w, y+h), (255, 0, 0), 2)\n",
    "\n",
    "# Display the image with detected faces\n",
    "cv2.imshow('Faces', image)\n",
    "cv2.waitKey(0)\n",
    "cv2.destroyAllWindows()"
   ]
  }
 ],
 "metadata": {
  "kernelspec": {
   "display_name": "Python 3 (ipykernel)",
   "language": "python",
   "name": "python3"
  },
  "language_info": {
   "codemirror_mode": {
    "name": "ipython",
    "version": 3
   },
   "file_extension": ".py",
   "mimetype": "text/x-python",
   "name": "python",
   "nbconvert_exporter": "python",
   "pygments_lexer": "ipython3",
   "version": "3.10.9"
  }
 },
 "nbformat": 4,
 "nbformat_minor": 5
}
